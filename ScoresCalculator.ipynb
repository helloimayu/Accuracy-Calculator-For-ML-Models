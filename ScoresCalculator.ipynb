{
 "cells": [
  {
   "cell_type": "code",
   "execution_count": 1,
   "metadata": {},
   "outputs": [],
   "source": [
    "#libraries required: numpy, scikit-learn\n",
    "\n",
    "import sys\n",
    "!{sys.executable} -m pip install numpy scikit-learn"
   ]
  },
  {
   "cell_type": "code",
   "execution_count": 2,
   "metadata": {},
   "outputs": [],
   "source": [
    "#importing modules\n",
    "import numpy as np                                              #for loading dataset and handling arrays\n",
    "\n",
    "from sklearn.ensemble import RandomForestClassifier as rfc      #for using random forest classifier model to predict\n",
    "from sklearn import tree                                        #for using decision tree model to predict\n",
    "from sklearn.linear_model import LogisticRegression as lr       #for using logistic regression model to predict\n",
    "from sklearn import svm                                         #for using support vector machines model to predict\n",
    "from sklearn.neighbors import KNeighborsClassifier              #for using k-nearest neighbour model to predict\n",
    "from sklearn.model_selection import train_test_split            #for dividing dataset into training and testing \n",
    "from sklearn.metrics import accuracy_score                      #for calculating the accuracy score of models\n",
    "from sklearn.metrics import precision_score                     #for calculating the precision score of models\n",
    "from sklearn.metrics import recall_score                        #for calculating the recall score of models\n",
    "from sklearn.metrics import f1_score                            #for calculating the f1 score of models\n",
    "\n",
    "import time                                                     #for calculating time of training and testing of model"
   ]
  },
  {
   "cell_type": "code",
   "execution_count": 3,
   "metadata": {},
   "outputs": [],
   "source": [
    "def LogisticRegression():\n",
    "    \n",
    "    #loading dataset\n",
    "    data = np.loadtxt(\"dataset.csv\", delimiter = \",\")\n",
    "    \n",
    "    #seperate features and labels, 1-30 are features and 31 is result (label)\n",
    "    x = data[: , :-1]\n",
    "    y = data[: , -1]\n",
    "    \n",
    "    #Seperating training features, testing features, training labels & testing labels\n",
    "    x_train, x_test, y_train, y_test = train_test_split(x, y, test_size = 0.2)    #here 20% data is for testing\n",
    "    #x variables contain features and y contains results\n",
    "    \n",
    "    print(\"Training a logistic regression model on given dataset\")\n",
    "    start = time.time()                                         #store the start time for training and testing of model\n",
    "    classifier = lr()                                           #using logistic regression model\n",
    "    print(\"Logistic regression classifier created.\")\n",
    "    print(\"Beginning model training.\")\n",
    "    classifier.fit(x_train, y_train)                            #train the model\n",
    "    print(\"Model training completed.\")\n",
    "    predictions = classifier.predict(x_test)                    #do predictions on the model for testing data\n",
    "    print(\"Predictions on testing data computed.\")\n",
    "    end = time.time ()                                          #store the end time for training and testing of model\n",
    "    accuracy = 100.0 * accuracy_score(y_test, predictions)\n",
    "    print(\"The accuracy of your logistic regression model on testing data is: \" + str(accuracy) + \" %\")\n",
    "    f1score = f1_score (y_test, predictions)\n",
    "    print (\"The f1-score of your logistic regression model on testing data is: \" + str (f1score))\n",
    "    precision = precision_score (y_test, predictions)\n",
    "    print (\"The precision of your logistic regression model on testing data is: \" + str (precision))\n",
    "    recall = recall_score (y_test, predictions)\n",
    "    print (\"The recall of your logistic regression model on testing data is: \" + str (recall))\n",
    "    runtime = end - start\n",
    "    print (\"Total time taken for training and testing by logistic regression model is: \" + str (runtime) + \" s\")"
   ]
  },
  {
   "cell_type": "code",
   "execution_count": 4,
   "metadata": {},
   "outputs": [],
   "source": [
    "def DecisionTree():\n",
    "    \n",
    "    #loading dataset\n",
    "    data = np.loadtxt(\"dataset.csv\", delimiter = \",\")\n",
    "    \n",
    "    #seperate features and labels, 1-30 are features and 31 is result (label)\n",
    "    x = data[: , :-1]\n",
    "    y = data[: , -1]\n",
    "    \n",
    "    #Seperating training features, testing features, training labels & testing labels\n",
    "    x_train, x_test, y_train, y_test = train_test_split(x, y, test_size = 0.2)    #here 20% data is for testing\n",
    "    #x variables contain features and y contains results\n",
    "    \n",
    "    print(\"Training a decision tree model on given dataset\")\n",
    "    start = time.time ()\n",
    "    classifier = tree.DecisionTreeClassifier()\n",
    "    print(\"Decision tree classifier created.\")\n",
    "    print(\"Beginning model training.\")\n",
    "    classifier.fit(x_train, y_train)\n",
    "    print(\"Model training completed.\")\n",
    "    predictions = classifier.predict(x_test)\n",
    "    print(\"Predictions on testing data computed.\")\n",
    "    end = time.time ()\n",
    "    accuracy = 100.0 * accuracy_score(y_test, predictions)\n",
    "    print(\"The accuracy of your decision tree model on testing data is : \" + str(accuracy) + \" %\")\n",
    "    f1score = f1_score (y_test, predictions)\n",
    "    print (\"The f1-score of your decision tree model on testing data is: \" + str (f1score))\n",
    "    precision = precision_score(y_test, predictions)\n",
    "    print(\"The precision of your decision tree model on testing data is: \" + str(precision))\n",
    "    recall = recall_score(y_test, predictions)\n",
    "    print (\"The recall of your decision tree model on testing data is: \" + str (recall))\n",
    "    runtime = end - start\n",
    "    print (\"Total time taken for training and testing by decision tree model is: \" + str(runtime) + \" s\")"
   ]
  },
  {
   "cell_type": "code",
   "execution_count": 5,
   "metadata": {},
   "outputs": [],
   "source": [
    "def RandomForestClassifer():\n",
    "    \n",
    "    #loading dataset\n",
    "    data = np.loadtxt(\"dataset.csv\", delimiter = \",\")\n",
    "    \n",
    "    #seperate features and labels, 1-30 are features and 31 is label\n",
    "    x = data[: , :-1]\n",
    "    y = data[: , -1]\n",
    "    \n",
    "    #Seperating training features, testing features, training labels & testing labels\n",
    "    x_train, x_test, y_train, y_test = train_test_split(x, y, test_size = 0.2)    #here 20% data is for testing\n",
    "    #x variables contain features and y contains results\n",
    "    \n",
    "    print(\"Training a random forest model on given dataset\")\n",
    "    start = time.time()                                         #store the start time for training and testing of model\n",
    "    classifier = rfc()                                          #using random forest classifier model\n",
    "    print(\"Random Forest classifier created.\")\n",
    "    print(\"Beginning model training.\")\n",
    "    classifier.fit(x_train, y_train)                            #train the model\n",
    "    print(\"Model training completed.\")\n",
    "    predictions = classifier.predict(x_test)                    #do predictions on the model for testing data\n",
    "    print(\"Predictions on testing data computed.\")\n",
    "    end = time.time ()                                          #store the end time for training and testing of model\n",
    "    accuracy = 100.0 * accuracy_score(y_test, predictions)      #calculate accuracy of the model and store it in 'score' variable\n",
    "    print(\"The accuracy of your random forest model on testing data is: \" + str(accuracy) + \" %\")\n",
    "    f1score = f1_score (y_test, predictions)            #calculate f1 score of the model and store it in 'f1score' variable\n",
    "    print (\"The f1-score of your random forest model on testing data is: \" + str (f1score))\n",
    "    precision = precision_score (y_test, predictions)   #calculate precision score of the model and store it in 'precision' variable\n",
    "    print (\"The precision of your random forest model on testing data is: \" + str (precision))\n",
    "    recall = recall_score (y_test, predictions)         #calculate recall score of the model and store it in 'recall' variable\n",
    "    print (\"The recall of your random forest model on testing data is: \" + str (recall))\n",
    "    runtime = end - start                                       #calculate and store total time taken for training and testing of model\n",
    "    print (\"Total time taken for training and testing by random forest model is: \" + str (runtime) + \" s\")"
   ]
  },
  {
   "cell_type": "code",
   "execution_count": 6,
   "metadata": {},
   "outputs": [],
   "source": [
    "def SupportVectorMachines():\n",
    "    \n",
    "    #loading dataset\n",
    "    data = np.loadtxt(\"dataset.csv\", delimiter = \",\")\n",
    "    \n",
    "    #seperate features and labels, 1-30 are features and 31 is result\n",
    "    x = data[: , :-1]\n",
    "    y = data[: , -1]\n",
    "    \n",
    "    #Seperating training features, testing features, training labels & testing labels\n",
    "    x_train, x_test, y_train, y_test = train_test_split(x, y, test_size = 0.2)    #here 20% data is for testing\n",
    "    #x variables contain features and y contains results\n",
    "    \n",
    "    print(\"Training a support vector machine model on given dataset\")\n",
    "    start = time.time ()\n",
    "    classifier = svm.SVC()\n",
    "    print(\"Support Vector Machines created.\")\n",
    "    print(\"Beginning model training.\")\n",
    "    classifier.fit(x_train, y_train)\n",
    "    print(\"Model training completed.\")\n",
    "    predictions = classifier.predict(x_test)\n",
    "    print(\"Predictions on testing data computed.\")\n",
    "    end = time.time ()\n",
    "    accuracy = 100.0 * accuracy_score(y_test, predictions)\n",
    "    print(\"The accuracy of your support vector machines model on testing data is: \" + str(accuracy) + \" %\")\n",
    "    f1score = f1_score (y_test, predictions)\n",
    "    print (\"The f1-score of your support vector machines model on testing data is: \" + str (f1score))\n",
    "    precision = precision_score (y_test, predictions)\n",
    "    print (\"The precision of your support vector machines model on testing data is: \" + str (precision))\n",
    "    recall = recall_score (y_test, predictions)\n",
    "    print (\"The recall of your support vector machines model on testing data is: \" + str (recall))\n",
    "    runtime = end - start\n",
    "    print (\"Total time taken for training and testing by support vector machines model is: \" + str (runtime) + \" s\")"
   ]
  },
  {
   "cell_type": "code",
   "execution_count": 7,
   "metadata": {},
   "outputs": [],
   "source": [
    "def KNearestNeighbour():\n",
    "    \n",
    "    #loading dataset\n",
    "    data = np.loadtxt(\"dataset.csv\", delimiter = \",\")\n",
    "    \n",
    "    #seperate features and labels, 1-30 are features and 31 is result\n",
    "    x = data[: , :-1]\n",
    "    y = data[: , -1]\n",
    "    \n",
    "    #Seperating training features, testing features, training labels & testing labels\n",
    "    x_train, x_test, y_train, y_test = train_test_split(x, y, test_size = 0.2)    #here 20% data is for testing\n",
    "    #x variables contain features and y contains results\n",
    "    \n",
    "    print(\"Training a k nearest neighbours model on given dataset\")\n",
    "    start = time.time ()\n",
    "    classifier = KNeighborsClassifier()\n",
    "    print(\"K-Nearest Neighbours created.\")\n",
    "    print(\"Beginning model training.\")\n",
    "    classifier.fit(x_train, y_train)\n",
    "    print(\"Model training completed.\")\n",
    "    predictions = classifier.predict(x_test)\n",
    "    print(\"Predictions on testing data computed.\")\n",
    "    end = time.time ()\n",
    "    accuracy = 100.0 * accuracy_score(y_test, predictions)\n",
    "    print(\"The accuracy of your k-nearest neighbours model on testing data is: \" + str(accuracy) + \" %\")\n",
    "    f1score = f1_score (y_test, predictions)\n",
    "    print (\"The f1-score of your k-nearest neighbours model on testing data is: \" + str (f1score))\n",
    "    precision = precision_score (y_test, predictions)\n",
    "    print (\"The precision of your k-nearest neighbours model on testing data is: \" + str (precision))\n",
    "    recall = recall_score (y_test, predictions)\n",
    "    print (\"The recall of your k-nearest neighbours model on testing data is: \" + str (recall))\n",
    "    runtime = end - start\n",
    "    print (\"Total time taken for training and testing by k-nearest neighbours model is: \" + str (runtime) + \" s\")"
   ]
  },
  {
   "cell_type": "code",
   "execution_count": 8,
   "metadata": {},
   "outputs": [
    {
     "name": "stdout",
     "output_type": "stream",
     "text": [
      "Training a logistic regression model on given dataset\n",
      "Logistic regression classifier created.\n",
      "Beginning model training.\n",
      "Model training completed.\n",
      "Predictions on testing data computed.\n",
      "The accuracy of your logistic regression model on testing data is: 74.02597402597402 %\n",
      "The f1-score of your logistic regression model on testing data is: 0.5833333333333334\n",
      "The precision of your logistic regression model on testing data is: 0.6222222222222222\n",
      "The recall of your logistic regression model on testing data is: 0.5490196078431373\n",
      "Total time taken for training and testing by logistic regression model is: 0.05338430404663086 s\n"
     ]
    },
    {
     "name": "stderr",
     "output_type": "stream",
     "text": [
      "c:\\users\\ayu\\miniconda3\\lib\\site-packages\\sklearn\\linear_model\\_logistic.py:940: ConvergenceWarning: lbfgs failed to converge (status=1):\n",
      "STOP: TOTAL NO. of ITERATIONS REACHED LIMIT.\n",
      "\n",
      "Increase the number of iterations (max_iter) or scale the data as shown in:\n",
      "    https://scikit-learn.org/stable/modules/preprocessing.html\n",
      "Please also refer to the documentation for alternative solver options:\n",
      "    https://scikit-learn.org/stable/modules/linear_model.html#logistic-regression\n",
      "  extra_warning_msg=_LOGISTIC_SOLVER_CONVERGENCE_MSG)\n"
     ]
    }
   ],
   "source": [
    "#calling for using logistic regression model\n",
    "LogisticRegression()"
   ]
  },
  {
   "cell_type": "code",
   "execution_count": 9,
   "metadata": {},
   "outputs": [
    {
     "name": "stdout",
     "output_type": "stream",
     "text": [
      "Training a decision tree model on given dataset\n",
      "Decision tree classifier created.\n",
      "Beginning model training.\n",
      "Model training completed.\n",
      "Predictions on testing data computed.\n",
      "The accuracy of your decision tree model on testing data is : 67.53246753246754 %\n",
      "The f1-score of your decision tree model on testing data is: 0.5689655172413792\n",
      "The precision of your decision tree model on testing data is: 0.6111111111111112\n",
      "The recall of your decision tree model on testing data is: 0.532258064516129\n",
      "Total time taken for training and testing by decision tree model is: 0.0156252384185791 s\n"
     ]
    }
   ],
   "source": [
    "#calling for using decision tree model\n",
    "DecisionTree()"
   ]
  },
  {
   "cell_type": "code",
   "execution_count": 10,
   "metadata": {},
   "outputs": [
    {
     "name": "stdout",
     "output_type": "stream",
     "text": [
      "Training a random forest model on given dataset\n",
      "Random Forest classifier created.\n",
      "Beginning model training.\n",
      "Model training completed.\n",
      "Predictions on testing data computed.\n",
      "The accuracy of your random forest model on testing data is: 80.51948051948052 %\n",
      "The f1-score of your random forest model on testing data is: 0.6875000000000001\n",
      "The precision of your random forest model on testing data is: 0.7857142857142857\n",
      "The recall of your random forest model on testing data is: 0.6111111111111112\n",
      "Total time taken for training and testing by random forest model is: 0.36982035636901855 s\n"
     ]
    }
   ],
   "source": [
    "#calling for using random forest model\n",
    "RandomForestClassifer()"
   ]
  },
  {
   "cell_type": "code",
   "execution_count": 11,
   "metadata": {},
   "outputs": [
    {
     "name": "stdout",
     "output_type": "stream",
     "text": [
      "Training a support vector machine model on given dataset\n",
      "Support Vector Machines created.\n",
      "Beginning model training.\n",
      "Model training completed.\n",
      "Predictions on testing data computed.\n",
      "The accuracy of your support vector machines model on testing data is: 67.53246753246754 %\n",
      "The f1-score of your support vector machines model on testing data is: 0.40476190476190477\n",
      "The precision of your support vector machines model on testing data is: 0.5151515151515151\n",
      "The recall of your support vector machines model on testing data is: 0.3333333333333333\n",
      "Total time taken for training and testing by support vector machines model is: 0.02213430404663086 s\n"
     ]
    }
   ],
   "source": [
    "#calling for using support vctor machines model\n",
    "SupportVectorMachines()"
   ]
  },
  {
   "cell_type": "code",
   "execution_count": 12,
   "metadata": {},
   "outputs": [
    {
     "name": "stdout",
     "output_type": "stream",
     "text": [
      "Training a k nearest neighbours model on given dataset\n",
      "K-Nearest Neighbours created.\n",
      "Beginning model training.\n",
      "Model training completed.\n",
      "Predictions on testing data computed.\n",
      "The accuracy of your k-nearest neighbours model on testing data is: 72.07792207792207 %\n",
      "The f1-score of your k-nearest neighbours model on testing data is: 0.5742574257425742\n",
      "The precision of your k-nearest neighbours model on testing data is: 0.7073170731707317\n",
      "The recall of your k-nearest neighbours model on testing data is: 0.48333333333333334\n",
      "Total time taken for training and testing by k-nearest neighbours model is: 0.015622854232788086 s\n"
     ]
    }
   ],
   "source": [
    "#calling for using k-nearest neighbours model\n",
    "KNearestNeighbour()"
   ]
  }
 ],
 "metadata": {
  "kernelspec": {
   "display_name": "Python 3",
   "language": "python",
   "name": "python3"
  },
  "language_info": {
   "codemirror_mode": {
    "name": "ipython",
    "version": 3
   },
   "file_extension": ".py",
   "mimetype": "text/x-python",
   "name": "python",
   "nbconvert_exporter": "python",
   "pygments_lexer": "ipython3",
   "version": "3.7.3"
  }
 },
 "nbformat": 4,
 "nbformat_minor": 4
}
